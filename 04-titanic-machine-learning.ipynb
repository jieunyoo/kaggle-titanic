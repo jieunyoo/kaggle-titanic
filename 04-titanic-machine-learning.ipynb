{
 "cells": [
  {
   "cell_type": "markdown",
   "metadata": {},
   "source": [
    "The following block copies the code from the previous notebooks - it sets up our notebook with our data that has been \"cleaned\" and with its new features. See the previous parts for explanations of each step."
   ]
  },
  {
   "cell_type": "code",
   "execution_count": 1,
   "metadata": {},
   "outputs": [],
   "source": [
    "#setup\n",
    "import pandas as pd\n",
    "import numpy as np\n",
    "import seaborn as sns\n",
    "import matplotlib.pyplot as plt\n",
    "%matplotlib inline\n",
    "\n",
    "from sklearn.linear_model import LogisticRegression\n",
    "from sklearn.ensemble import RandomForestClassifier\n",
    "\n",
    "train_df = pd.read_csv('train.csv')  \n",
    "test_df = pd.read_csv('test.csv')\n",
    "#combine = [train_df, test_df]\n",
    "test_df_predictions = pd.read_csv('test.csv')\n",
    "\n",
    "train_df.drop('Cabin', 1, inplace=True)\n",
    "test_df.drop('Cabin', 1, inplace=True)\n",
    "train_df.drop('Ticket', 1, inplace=True)\n",
    "test_df.drop('Ticket', 1, inplace=True)\n",
    "train_df.drop('PassengerId', 1, inplace=True)\n",
    "test_df.drop('PassengerId', 1, inplace=True)\n",
    "\n",
    "train_df['Age'].fillna(train_df['Age'].median(),inplace=True)\n",
    "test_df['Age'].fillna(test_df['Age'].median(),inplace=True)\n",
    "test_df['Fare'].fillna(test_df['Fare'].median(),inplace=True)\n",
    "train_df['Embarked'].fillna(\"S\",inplace=True)\n",
    "df_sex = pd.get_dummies(train_df[['Sex']])\n",
    "df_embarked = pd.get_dummies(train_df[['Embarked']])\n",
    "\n",
    "train_new = pd.concat([train_df,df_sex,df_embarked],axis=1)\n",
    "train_new.drop('Sex',1,inplace=True)\n",
    "train_new.drop('Embarked',1,inplace=True)\n",
    "df_sex_test = pd.get_dummies(test_df[['Sex']])\n",
    "df_embarked_test = pd.get_dummies(test_df[['Embarked']])\n",
    "test_new = pd.concat([test_df,df_sex_test,df_embarked_test],axis=1)\n",
    "test_new.drop('Sex',1,inplace=True)\n",
    "test_new.drop('Embarked',1,inplace=True)\n",
    "\n",
    "def extract_title():\n",
    "    train_new['Title'] = train_new['Name'].map(lambda name:name.split(',')[1].split('.')[0].strip())\n",
    "    test_new['Title'] = test_new['Name'].map(lambda name:name.split(',')[1].split('.')[0].strip())\n",
    "\n",
    "extract_title()\n",
    "train_new.drop('Name',1,inplace=True)\n",
    "test_new.drop('Name',1,inplace=True)\n",
    "\n",
    "def extractMrs():\n",
    "    married_female = []\n",
    "    for i in train_new['Title']:\n",
    "        if i == \"Mrs\":\n",
    "            married_female.append(1)\n",
    "        else:\n",
    "            married_female.append(0)\n",
    "    train_new['married_female'] = married_female\n",
    "    \n",
    "    married_female_test = []\n",
    "    for i in test_new['Title']:\n",
    "        if i == \"Mrs\":\n",
    "            married_female_test.append(1)\n",
    "        else:\n",
    "            married_female_test.append(0)\n",
    "    test_new['married_female_test'] = married_female_test\n",
    "    \n",
    "    \n",
    "extractMrs()\n",
    "train_new.drop('Title',1,inplace=True)\n",
    "test_new.drop('Title',1,inplace=True)"
   ]
  },
  {
   "cell_type": "code",
   "execution_count": 2,
   "metadata": {},
   "outputs": [
    {
     "data": {
      "text/plain": [
       "((891, 11), (891,), (418, 11))"
      ]
     },
     "execution_count": 2,
     "metadata": {},
     "output_type": "execute_result"
    }
   ],
   "source": [
    "X_train = train_new.drop(\"Survived\", axis=1)\n",
    "Y_train = train_new[\"Survived\"]\n",
    "X_test = test_new\n",
    "X_train.shape, Y_train.shape, X_test.shape"
   ]
  },
  {
   "cell_type": "code",
   "execution_count": 3,
   "metadata": {},
   "outputs": [
    {
     "data": {
      "text/html": [
       "<div>\n",
       "<style scoped>\n",
       "    .dataframe tbody tr th:only-of-type {\n",
       "        vertical-align: middle;\n",
       "    }\n",
       "\n",
       "    .dataframe tbody tr th {\n",
       "        vertical-align: top;\n",
       "    }\n",
       "\n",
       "    .dataframe thead th {\n",
       "        text-align: right;\n",
       "    }\n",
       "</style>\n",
       "<table border=\"1\" class=\"dataframe\">\n",
       "  <thead>\n",
       "    <tr style=\"text-align: right;\">\n",
       "      <th></th>\n",
       "      <th>Pclass</th>\n",
       "      <th>Age</th>\n",
       "      <th>SibSp</th>\n",
       "      <th>Parch</th>\n",
       "      <th>Fare</th>\n",
       "      <th>Sex_female</th>\n",
       "      <th>Sex_male</th>\n",
       "      <th>Embarked_C</th>\n",
       "      <th>Embarked_Q</th>\n",
       "      <th>Embarked_S</th>\n",
       "      <th>married_female</th>\n",
       "    </tr>\n",
       "  </thead>\n",
       "  <tbody>\n",
       "    <tr>\n",
       "      <th>0</th>\n",
       "      <td>3</td>\n",
       "      <td>22.0</td>\n",
       "      <td>1</td>\n",
       "      <td>0</td>\n",
       "      <td>7.2500</td>\n",
       "      <td>0</td>\n",
       "      <td>1</td>\n",
       "      <td>0</td>\n",
       "      <td>0</td>\n",
       "      <td>1</td>\n",
       "      <td>0</td>\n",
       "    </tr>\n",
       "    <tr>\n",
       "      <th>1</th>\n",
       "      <td>1</td>\n",
       "      <td>38.0</td>\n",
       "      <td>1</td>\n",
       "      <td>0</td>\n",
       "      <td>71.2833</td>\n",
       "      <td>1</td>\n",
       "      <td>0</td>\n",
       "      <td>1</td>\n",
       "      <td>0</td>\n",
       "      <td>0</td>\n",
       "      <td>1</td>\n",
       "    </tr>\n",
       "    <tr>\n",
       "      <th>2</th>\n",
       "      <td>3</td>\n",
       "      <td>26.0</td>\n",
       "      <td>0</td>\n",
       "      <td>0</td>\n",
       "      <td>7.9250</td>\n",
       "      <td>1</td>\n",
       "      <td>0</td>\n",
       "      <td>0</td>\n",
       "      <td>0</td>\n",
       "      <td>1</td>\n",
       "      <td>0</td>\n",
       "    </tr>\n",
       "    <tr>\n",
       "      <th>3</th>\n",
       "      <td>1</td>\n",
       "      <td>35.0</td>\n",
       "      <td>1</td>\n",
       "      <td>0</td>\n",
       "      <td>53.1000</td>\n",
       "      <td>1</td>\n",
       "      <td>0</td>\n",
       "      <td>0</td>\n",
       "      <td>0</td>\n",
       "      <td>1</td>\n",
       "      <td>1</td>\n",
       "    </tr>\n",
       "    <tr>\n",
       "      <th>4</th>\n",
       "      <td>3</td>\n",
       "      <td>35.0</td>\n",
       "      <td>0</td>\n",
       "      <td>0</td>\n",
       "      <td>8.0500</td>\n",
       "      <td>0</td>\n",
       "      <td>1</td>\n",
       "      <td>0</td>\n",
       "      <td>0</td>\n",
       "      <td>1</td>\n",
       "      <td>0</td>\n",
       "    </tr>\n",
       "  </tbody>\n",
       "</table>\n",
       "</div>"
      ],
      "text/plain": [
       "   Pclass   Age  SibSp  Parch     Fare  Sex_female  Sex_male  Embarked_C  \\\n",
       "0       3  22.0      1      0   7.2500           0         1           0   \n",
       "1       1  38.0      1      0  71.2833           1         0           1   \n",
       "2       3  26.0      0      0   7.9250           1         0           0   \n",
       "3       1  35.0      1      0  53.1000           1         0           0   \n",
       "4       3  35.0      0      0   8.0500           0         1           0   \n",
       "\n",
       "   Embarked_Q  Embarked_S  married_female  \n",
       "0           0           1               0  \n",
       "1           0           0               1  \n",
       "2           0           1               0  \n",
       "3           0           1               1  \n",
       "4           0           1               0  "
      ]
     },
     "execution_count": 3,
     "metadata": {},
     "output_type": "execute_result"
    }
   ],
   "source": [
    "X_train.head()"
   ]
  },
  {
   "cell_type": "code",
   "execution_count": 4,
   "metadata": {},
   "outputs": [
    {
     "data": {
      "text/plain": [
       "80.810000000000002"
      ]
     },
     "execution_count": 4,
     "metadata": {},
     "output_type": "execute_result"
    }
   ],
   "source": [
    "logisticRegressionModel = LogisticRegression()\n",
    "logisticRegressionModel.fit(X_train,Y_train)\n",
    "Y_predictions = logisticRegressionModel.predict(X_test)\n",
    "scoreLogisticRegressionModel = round(logisticRegressionModel.score(X_train,Y_train)*100,2)\n",
    "scoreLogisticRegressionModel "
   ]
  },
  {
   "cell_type": "code",
   "execution_count": 5,
   "metadata": {},
   "outputs": [],
   "source": [
    "#randomForestModel = RandomForestClassifier(n_estimators = 100)\n",
    "#randomForestModel.fit(X_train,Y_train)\n",
    "#Y_predictions = randomForestModel.predict(X_test)\n",
    "#randomForestModel.score(X_train, Y_train)\n",
    "#scoreRandomForestModel = round(randomForestModel.score(X_train,Y_train)*100,2)\n",
    "#scoreRandomForestModel"
   ]
  },
  {
   "cell_type": "code",
   "execution_count": 6,
   "metadata": {},
   "outputs": [],
   "source": [
    "kaggleSubmissionFile = pd.DataFrame( { \"PassengerId\": test_df_predictions[\"PassengerId\"],\n",
    "                                   \"Survived\": Y_predictions})\n",
    "kaggleSubmissionFile.to_csv('submission.csv',index=False)"
   ]
  },
  {
   "cell_type": "code",
   "execution_count": null,
   "metadata": {},
   "outputs": [],
   "source": []
  }
 ],
 "metadata": {
  "kernelspec": {
   "display_name": "Python 3",
   "language": "python",
   "name": "python3"
  },
  "language_info": {
   "codemirror_mode": {
    "name": "ipython",
    "version": 3
   },
   "file_extension": ".py",
   "mimetype": "text/x-python",
   "name": "python",
   "nbconvert_exporter": "python",
   "pygments_lexer": "ipython3",
   "version": "3.5.2"
  }
 },
 "nbformat": 4,
 "nbformat_minor": 2
}
