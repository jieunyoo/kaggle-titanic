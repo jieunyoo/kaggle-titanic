{
 "cells": [
  {
   "cell_type": "markdown",
   "metadata": {},
   "source": [
    "## Description\n",
    "\n",
    "This is a small kernel that does data exploration of the Titanic:Machine Learning from Disaster dataset, which was obtained from Kaggle. The goal of the Kaggle challenge using this dataset is to use machine learning to predict whether a person survived or not. This is thus a binary classification task.\n",
    "\n",
    "The data is split into a training set (train.csv) and a test set (test.csv).\n",
    "\n",
    "The data set is composed of 10 variables: survival, pclass, sex, age, sibsp, parch, ticket, fare, cabin, and embarkedPort.\n",
    "\n",
    "Description of the 10 variables given are as follows:\n",
    "* survival - yes coded as \"1\", no coded as \"0\"\n",
    "* pclass - a rating is given to individuals based on their socioeconomic class: Upper (\"1\"), Middle (\"2\"), Lower (\"3\")\n",
    "* sex - male or female\n",
    "* age \n",
    "* sibsp - number of siblings and spouses\n",
    "* parch - number of parents and children\n",
    "* ticket - ticket number\n",
    "* fare - cost of ticket\n",
    "* cabin - cabin number\n",
    "* embarkedPort - symbol indicating the port at which individuals embarked\n",
    "\n"
   ]
  },
  {
   "cell_type": "code",
   "execution_count": null,
   "metadata": {},
   "outputs": [],
   "source": [
    "import pandas as pd\n",
    "import numpy as np\n",
    "import seaborn as sn\n",
    "import matplotlib.pyplot as plt\n",
    "%matplotlib inline\n",
    "\n",
    "train_df = pd.read_csv('train.csv')  \n",
    "test_df = pd.read_csv('test.csv')\n",
    "combine = [train_df, test_df]"
   ]
  }
 ],
 "metadata": {
  "kernelspec": {
   "display_name": "Python 3",
   "language": "python",
   "name": "python3"
  },
  "language_info": {
   "codemirror_mode": {
    "name": "ipython",
    "version": 3
   },
   "file_extension": ".py",
   "mimetype": "text/x-python",
   "name": "python",
   "nbconvert_exporter": "python",
   "pygments_lexer": "ipython3",
   "version": "3.5.2"
  }
 },
 "nbformat": 4,
 "nbformat_minor": 2
}
