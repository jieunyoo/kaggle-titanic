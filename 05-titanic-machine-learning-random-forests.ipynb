{
 "cells": [
  {
   "cell_type": "markdown",
   "metadata": {},
   "source": [
    "### Setup\n",
    "\n",
    "The following block copies much of the code from the previous notebooks - it sets up our notebook with our data that has been \"cleaned\" and with its new features. See the previous parts for explanations of each step.\n",
    "\n",
    "It also drops the features Fare and Parch."
   ]
  },
  {
   "cell_type": "code",
   "execution_count": 1,
   "metadata": {},
   "outputs": [
    {
     "name": "stderr",
     "output_type": "stream",
     "text": [
      "/usr/local/lib/python3.5/dist-packages/pandas/core/computation/check.py:17: UserWarning: The installed version of numexpr 2.4.3 is not supported in pandas and will be not be used\n",
      "The minimum supported version is 2.4.6\n",
      "\n",
      "  ver=ver, min_ver=_MIN_NUMEXPR_VERSION), UserWarning)\n"
     ]
    }
   ],
   "source": [
    "#setup\n",
    "import pandas as pd\n",
    "import numpy as np\n",
    "import seaborn as sns\n",
    "import matplotlib.pyplot as plt\n",
    "%matplotlib inline\n",
    "\n",
    "from sklearn.linear_model import LogisticRegression\n",
    "from sklearn.ensemble import RandomForestClassifier\n",
    "\n",
    "train_df = pd.read_csv('train.csv')  \n",
    "test_df = pd.read_csv('test.csv')\n",
    "#combine = [train_df, test_df]\n",
    "test_df_predictions = pd.read_csv('test.csv')\n",
    "\n",
    "train_df.drop('Cabin', 1, inplace=True)\n",
    "test_df.drop('Cabin', 1, inplace=True)\n",
    "train_df.drop('Ticket', 1, inplace=True)\n",
    "test_df.drop('Ticket', 1, inplace=True)\n",
    "train_df.drop('PassengerId', 1, inplace=True)\n",
    "test_df.drop('PassengerId', 1, inplace=True)\n",
    "train_df.drop('Embarked', 1, inplace=True)\n",
    "test_df.drop('Embarked', 1, inplace=True)\n",
    "\n",
    "train_df['Age'].fillna(train_df['Age'].median(),inplace=True)\n",
    "test_df['Age'].fillna(test_df['Age'].median(),inplace=True)\n",
    "\n",
    "test_df['Fare'].fillna(test_df['Fare'].median(),inplace=True)\n",
    "\n",
    "df_sex = pd.get_dummies(train_df[['Sex']])\n",
    "train_new = pd.concat([train_df,df_sex],axis=1)\n",
    "train_new.drop('Sex',1,inplace=True)\n",
    "df_sex_test = pd.get_dummies(test_df[['Sex']])\n",
    "test_new = pd.concat([test_df,df_sex_test],axis=1)\n",
    "test_new.drop('Sex',1,inplace=True)\n",
    "\n",
    "def extract_title():\n",
    "    train_new['Title'] = train_new['Name'].map(lambda name:name.split(',')[1].split('.')[0].strip())\n",
    "    test_new['Title'] = test_new['Name'].map(lambda name:name.split(',')[1].split('.')[0].strip())\n",
    "\n",
    "extract_title()\n",
    "train_new.drop('Name',1,inplace=True)\n",
    "test_new.drop('Name',1,inplace=True)\n",
    "\n",
    "def extractMrs():\n",
    "    married_female = []\n",
    "    for i in train_new['Title']:\n",
    "        if i == \"Mrs\":\n",
    "            married_female.append(1)\n",
    "        else:\n",
    "            married_female.append(0)\n",
    "    train_new['married_female'] = married_female\n",
    "    \n",
    "    married_female_test = []\n",
    "    for i in test_new['Title']:\n",
    "        if i == \"Mrs\":\n",
    "            married_female_test.append(1)\n",
    "        else:\n",
    "            married_female_test.append(0)\n",
    "    test_new['married_female_test'] = married_female_test\n",
    "    \n",
    "    \n",
    "extractMrs()\n",
    "train_new.drop('Title',1,inplace=True)\n",
    "test_new.drop('Title',1,inplace=True)\n",
    "\n",
    "train_new[\"FamilySize\"] = train_new['Parch'] + train_new['SibSp'] + 1\n",
    "test_new[\"FamilySize\"] = test_new['Parch'] + test_new['SibSp'] + 1\n",
    "\n",
    "def travelAlone():\n",
    "    travelAlonePassenger = []\n",
    "    for i in train_new[\"FamilySize\"]:\n",
    "        if i == 1:\n",
    "            travelAlonePassenger.append(1)\n",
    "        else:\n",
    "            travelAlonePassenger.append(0)\n",
    "    train_new[\"travelAlonePassenger\"] = travelAlonePassenger\n",
    "    \n",
    "    travelAlonePassenger_test = []\n",
    "    for i in test_new[\"FamilySize\"]:\n",
    "        if i == 1:\n",
    "            travelAlonePassenger_test.append(1)\n",
    "        else:\n",
    "            travelAlonePassenger_test.append(0)\n",
    "    test_new[\"travelAlonePassenger\"] = travelAlonePassenger_test\n",
    "\n",
    "def bigFamily():\n",
    "    bigFamilyPassenger = []\n",
    "    for i in train_new[\"FamilySize\"]:\n",
    "        if i > 3:\n",
    "            bigFamilyPassenger.append(1)\n",
    "        else:\n",
    "            bigFamilyPassenger.append(0)\n",
    "    train_new[\"bigFamilyPassenger\"] = bigFamilyPassenger\n",
    "    \n",
    "    bigFamilyPassenger_test = []\n",
    "    for i in test_new[\"FamilySize\"]:\n",
    "        if i > 3:\n",
    "            bigFamilyPassenger_test.append(1)\n",
    "        else:\n",
    "            bigFamilyPassenger_test.append(0)\n",
    "    test_new[\"bigFamilyPassenger\"] = bigFamilyPassenger_test\n",
    "    \n",
    "travelAlone()\n",
    "bigFamily()\n",
    "\n",
    "train_new.drop('Parch', 1, inplace=True)\n",
    "test_new.drop('Parch', 1, inplace=True)\n",
    "\n",
    "def ticketFareThreshold():\n",
    "    ticketFareThreshold = []\n",
    "    for i in train_new[\"Fare\"]:\n",
    "        if i > 20:\n",
    "            ticketFareThreshold.append(1)\n",
    "        else:\n",
    "            ticketFareThreshold.append(0)\n",
    "    train_new[\"ticketFareThreshold\"] = ticketFareThreshold\n",
    "    \n",
    "    ticketFareThreshold_test = []\n",
    "    for i in test_new[\"Fare\"]:\n",
    "        if i > 20:\n",
    "            ticketFareThreshold_test.append(1)\n",
    "        else:\n",
    "            ticketFareThreshold_test.append(0)\n",
    "    test_new[\"ticketFareThreshold\"] = ticketFareThreshold_test\n",
    "\n",
    "ticketFareThreshold()\n",
    "train_new.drop('Fare', 1, inplace=True)\n",
    "test_new.drop('Fare', 1, inplace=True)\n",
    "\n",
    "bins = [0,18,45,100]\n",
    "group_names = ['young','middle','old']\n",
    "train_new[\"ageCategories\"] = pd.cut(train_new['Age'], bins, labels=group_names)\n",
    "ageCategoryIntegerConversion = {'young':1, 'middle':2, 'old':3}\n",
    "train_new['ageGroup'] = train_new['ageCategories'].map(ageCategoryIntegerConversion)\n",
    "train_new.drop('Age', 1, inplace=True)\n",
    "train_new.drop('ageCategories', 1, inplace=True)\n",
    "test_new[\"ageCategories\"] = pd.cut(test_new['Age'], bins, labels=group_names)\n",
    "test_new['ageGroup'] = test_new['ageCategories'].map(ageCategoryIntegerConversion)\n",
    "test_new.drop('Age', 1, inplace=True)\n",
    "test_new.drop('ageCategories', 1, inplace=True)"
   ]
  },
  {
   "cell_type": "markdown",
   "metadata": {},
   "source": [
    "### Set up training and test sets"
   ]
  },
  {
   "cell_type": "code",
   "execution_count": 2,
   "metadata": {},
   "outputs": [
    {
     "data": {
      "text/plain": [
       "((891, 9), (891,), (418, 9))"
      ]
     },
     "execution_count": 2,
     "metadata": {},
     "output_type": "execute_result"
    }
   ],
   "source": [
    "X_train = train_new.drop(\"Survived\", axis=1)\n",
    "Y_train = train_new[\"Survived\"]\n",
    "\n",
    "X_test = test_new\n",
    "X_train.shape, Y_train.shape, X_test.shape"
   ]
  },
  {
   "cell_type": "code",
   "execution_count": 3,
   "metadata": {},
   "outputs": [
    {
     "data": {
      "text/html": [
       "<div>\n",
       "<style scoped>\n",
       "    .dataframe tbody tr th:only-of-type {\n",
       "        vertical-align: middle;\n",
       "    }\n",
       "\n",
       "    .dataframe tbody tr th {\n",
       "        vertical-align: top;\n",
       "    }\n",
       "\n",
       "    .dataframe thead th {\n",
       "        text-align: right;\n",
       "    }\n",
       "</style>\n",
       "<table border=\"1\" class=\"dataframe\">\n",
       "  <thead>\n",
       "    <tr style=\"text-align: right;\">\n",
       "      <th></th>\n",
       "      <th>Pclass</th>\n",
       "      <th>SibSp</th>\n",
       "      <th>Sex_female</th>\n",
       "      <th>Sex_male</th>\n",
       "      <th>married_female</th>\n",
       "      <th>FamilySize</th>\n",
       "      <th>travelAlonePassenger</th>\n",
       "      <th>ticketFareThreshold</th>\n",
       "      <th>ageGroup</th>\n",
       "    </tr>\n",
       "  </thead>\n",
       "  <tbody>\n",
       "    <tr>\n",
       "      <th>0</th>\n",
       "      <td>3</td>\n",
       "      <td>1</td>\n",
       "      <td>0</td>\n",
       "      <td>1</td>\n",
       "      <td>0</td>\n",
       "      <td>2</td>\n",
       "      <td>0</td>\n",
       "      <td>0</td>\n",
       "      <td>2</td>\n",
       "    </tr>\n",
       "    <tr>\n",
       "      <th>1</th>\n",
       "      <td>1</td>\n",
       "      <td>1</td>\n",
       "      <td>1</td>\n",
       "      <td>0</td>\n",
       "      <td>1</td>\n",
       "      <td>2</td>\n",
       "      <td>0</td>\n",
       "      <td>1</td>\n",
       "      <td>2</td>\n",
       "    </tr>\n",
       "    <tr>\n",
       "      <th>2</th>\n",
       "      <td>3</td>\n",
       "      <td>0</td>\n",
       "      <td>1</td>\n",
       "      <td>0</td>\n",
       "      <td>0</td>\n",
       "      <td>1</td>\n",
       "      <td>1</td>\n",
       "      <td>0</td>\n",
       "      <td>2</td>\n",
       "    </tr>\n",
       "    <tr>\n",
       "      <th>3</th>\n",
       "      <td>1</td>\n",
       "      <td>1</td>\n",
       "      <td>1</td>\n",
       "      <td>0</td>\n",
       "      <td>1</td>\n",
       "      <td>2</td>\n",
       "      <td>0</td>\n",
       "      <td>1</td>\n",
       "      <td>2</td>\n",
       "    </tr>\n",
       "    <tr>\n",
       "      <th>4</th>\n",
       "      <td>3</td>\n",
       "      <td>0</td>\n",
       "      <td>0</td>\n",
       "      <td>1</td>\n",
       "      <td>0</td>\n",
       "      <td>1</td>\n",
       "      <td>1</td>\n",
       "      <td>0</td>\n",
       "      <td>2</td>\n",
       "    </tr>\n",
       "  </tbody>\n",
       "</table>\n",
       "</div>"
      ],
      "text/plain": [
       "   Pclass  SibSp  Sex_female  Sex_male  married_female  FamilySize  \\\n",
       "0       3      1           0         1               0           2   \n",
       "1       1      1           1         0               1           2   \n",
       "2       3      0           1         0               0           1   \n",
       "3       1      1           1         0               1           2   \n",
       "4       3      0           0         1               0           1   \n",
       "\n",
       "   travelAlonePassenger  ticketFareThreshold  ageGroup  \n",
       "0                     0                    0         2  \n",
       "1                     0                    1         2  \n",
       "2                     1                    0         2  \n",
       "3                     0                    1         2  \n",
       "4                     1                    0         2  "
      ]
     },
     "execution_count": 3,
     "metadata": {},
     "output_type": "execute_result"
    }
   ],
   "source": [
    "X_train.head()"
   ]
  },
  {
   "cell_type": "markdown",
   "metadata": {},
   "source": [
    "### Implementing a random forests model\n",
    "\n",
    "We'll try a random forest classifier method and print out a list of the feature importances. The feature importances tells us how important each of our features was in classifying passengers."
   ]
  },
  {
   "cell_type": "code",
   "execution_count": 4,
   "metadata": {},
   "outputs": [
    {
     "data": {
      "text/plain": [
       "[('Pclass', 0.16712115885129136),\n",
       " ('SibSp', 0.065797359491162499),\n",
       " ('Sex_female', 0.22776380470321539),\n",
       " ('Sex_male', 0.2257526689994763),\n",
       " ('married_female', 0.038018979676196302),\n",
       " ('FamilySize', 0.12388216555856836),\n",
       " ('travelAlonePassenger', 0.015122497999734381),\n",
       " ('ticketFareThreshold', 0.057760043103956729),\n",
       " ('ageGroup', 0.078781321616398572)]"
      ]
     },
     "execution_count": 4,
     "metadata": {},
     "output_type": "execute_result"
    }
   ],
   "source": [
    "randomForestModel = RandomForestClassifier(n_estimators = 100)\n",
    "randomForestModel.fit(X_train,Y_train)\n",
    "Y_predictions = randomForestModel.predict(X_test)\n",
    "randomForestModel.score(X_train, Y_train)\n",
    "\n",
    "features = X_train.columns[:12]\n",
    "list(zip(X_train[features], randomForestModel.feature_importances_))"
   ]
  },
  {
   "cell_type": "code",
   "execution_count": 5,
   "metadata": {},
   "outputs": [
    {
     "data": {
      "text/plain": [
       "84.510000000000005"
      ]
     },
     "execution_count": 5,
     "metadata": {},
     "output_type": "execute_result"
    }
   ],
   "source": [
    "scoreRandomForestModel = round(randomForestModel.score(X_train,Y_train)*100,2)\n",
    "scoreRandomForestModel"
   ]
  },
  {
   "cell_type": "markdown",
   "metadata": {},
   "source": [
    "### Creating a kaggle submission file"
   ]
  },
  {
   "cell_type": "code",
   "execution_count": 6,
   "metadata": {},
   "outputs": [],
   "source": [
    "kaggleSubmissionFile = pd.DataFrame( { \"PassengerId\": test_df_predictions[\"PassengerId\"],\n",
    "                                   \"Survived\": Y_predictions})\n",
    "kaggleSubmissionFile.to_csv('submission.csv',index=False)"
   ]
  },
  {
   "cell_type": "markdown",
   "metadata": {},
   "source": [
    "### Kaggle submission results\n",
    "\n",
    "The above submission receives a score of 0.77990 with a kaggle submission."
   ]
  }
 ],
 "metadata": {
  "kernelspec": {
   "display_name": "Python 3",
   "language": "python",
   "name": "python3"
  },
  "language_info": {
   "codemirror_mode": {
    "name": "ipython",
    "version": 3
   },
   "file_extension": ".py",
   "mimetype": "text/x-python",
   "name": "python",
   "nbconvert_exporter": "python",
   "pygments_lexer": "ipython3",
   "version": "3.5.2"
  }
 },
 "nbformat": 4,
 "nbformat_minor": 2
}
