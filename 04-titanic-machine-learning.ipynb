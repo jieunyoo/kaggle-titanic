{
 "cells": [
  {
   "cell_type": "markdown",
   "metadata": {},
   "source": [
    "The following block copies the code from the previous notebooks - it sets up our notebook with our data that has been \"cleaned\" and with its new features. See the previous parts for explanations of each step."
   ]
  },
  {
   "cell_type": "code",
   "execution_count": 2,
   "metadata": {},
   "outputs": [],
   "source": [
    "#setup\n",
    "import pandas as pd\n",
    "import numpy as np\n",
    "import seaborn as sns\n",
    "import matplotlib.pyplot as plt\n",
    "%matplotlib inline\n",
    "\n",
    "train_df = pd.read_csv('train.csv')  \n",
    "test_df = pd.read_csv('test.csv')\n",
    "combine = [train_df, test_df]\n",
    "\n",
    "train_df.drop('Cabin', 1, inplace=True)\n",
    "test_df.drop('Cabin', 1, inplace=True)\n",
    "train_df.drop('Ticket', 1, inplace=True)\n",
    "test_df.drop('Ticket', 1, inplace=True)\n",
    "train_df['Age'].fillna(train_df['Age'].median(),inplace=True)\n",
    "test_df['Age'].fillna(test_df['Age'].median(),inplace=True)\n",
    "test_df['Fare'].fillna(test_df['Fare'].median(),inplace=True)\n",
    "train_df['Embarked'].fillna(\"S\",inplace=True)\n",
    "df_sex = pd.get_dummies(train_df[['Sex']])\n",
    "df_embarked = pd.get_dummies(train_df[['Embarked']])\n",
    "\n",
    "train_new = pd.concat([train_df,df_sex,df_embarked],axis=1)\n",
    "train_new.drop('Sex',1,inplace=True)\n",
    "train_new.drop('Embarked',1,inplace=True)\n",
    "df_sex_test = pd.get_dummies(test_df[['Sex']])\n",
    "df_embarked_test = pd.get_dummies(test_df[['Embarked']])\n",
    "test_new = pd.concat([test_df,df_sex_test,df_embarked_test],axis=1)\n",
    "test_new.drop('Sex',1,inplace=True)\n",
    "test_new.drop('Embarked',1,inplace=True)\n",
    "\n",
    "def extract_title():\n",
    "    train_new['Title'] = train_new['Name'].map(lambda name:name.split(',')[1].split('.')[0].strip())\n",
    "    test_new['Title'] = test_new['Name'].map(lambda name:name.split(',')[1].split('.')[0].strip())\n",
    "\n",
    "extract_title()\n",
    "train_new.drop('Name',1,inplace=True)\n",
    "test_new.drop('Name',1,inplace=True)\n",
    "\n",
    "def extractMrs():\n",
    "    married_female = []\n",
    "    for i in train_new['Title']:\n",
    "        if i == \"Mrs\":\n",
    "            married_female.append(1)\n",
    "        else:\n",
    "            married_female.append(0)\n",
    "    train_new['married_female'] = married_female\n",
    "    \n",
    "    married_female_test = []\n",
    "    for i in test_new['Title']:\n",
    "        if i == \"Mrs\":\n",
    "            married_female_test.append(1)\n",
    "        else:\n",
    "            married_female_test.append(0)\n",
    "    test_new['married_female_test'] = married_female_test\n",
    "    \n",
    "    \n",
    "extractMrs()\n",
    "train_new.drop('Title',1,inplace=True)\n",
    "test_new.drop('Title',1,inplace=True)"
   ]
  },
  {
   "cell_type": "code",
   "execution_count": null,
   "metadata": {},
   "outputs": [],
   "source": []
  }
 ],
 "metadata": {
  "kernelspec": {
   "display_name": "Python 3",
   "language": "python",
   "name": "python3"
  },
  "language_info": {
   "codemirror_mode": {
    "name": "ipython",
    "version": 3
   },
   "file_extension": ".py",
   "mimetype": "text/x-python",
   "name": "python",
   "nbconvert_exporter": "python",
   "pygments_lexer": "ipython3",
   "version": "3.5.2"
  }
 },
 "nbformat": 4,
 "nbformat_minor": 2
}
